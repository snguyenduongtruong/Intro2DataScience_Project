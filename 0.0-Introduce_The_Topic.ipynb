{
 "cells": [
  {
   "cell_type": "markdown",
   "id": "3e487373",
   "metadata": {},
   "source": [
    "# <font color=navy>ĐỒ ÁN CUỐI KÌ - NHẬP MÔN KHOA HỌC DỮ LIỆU</font>\n",
    "\n",
    "#### <font color=darkseagreen>NHÓM 10</font>\n",
    "***\n",
    "## <font color=crimson> GIỚI THIỆU CHỦ ĐỀ, ĐỘNG LỰC THỰC HIỆN ĐỀ TÀI </font>\n",
    "### <font color=midnightblue>Chủ đề thực hiện : CRIMES (TỘI PHẠM)\n",
    "**Nguồn thu thập dữ liệu**\n",
    "    \n",
    "- https://data.gov/ là trang web dữ liệu mở của chính phủ Hoa Kỳ. Nó cung cấp quyền truy cập vào các bộ dữ liệu được xuất bản bởi các cơ quan trong chính phủ liên bang. Trang web nhằm mục đích cung cấp quyền truy cập vào dữ liệu mở của chính phủ cho công chúng, đạt được các sứ mệnh của cơ quan, thúc đẩy đổi mới, thúc đẩy hoạt động kinh tế và duy trì lý tưởng về một chính phủ cởi mở và minh bạch.\n",
    "\n",
    "- Crimes - 2001 to Present: Tập dữ liệu này phản ánh các vụ tội phạm được báo cáo (ngoại trừ các vụ giết người có dữ liệu về từng nạn nhân) xảy ra ở Thành phố Chicago từ năm 2001 đến nay. Dữ liệu được trích xuất từ hệ thống CLEAR (Phân tích và Báo cáo Thực thi Pháp luật Công dân) của Sở Cảnh sát Chicago.\n",
    "- Link: https://data.cityofchicago.org/Public-Safety/Crimes-2001-to-Present/ijzp-q8t2/data_preview\n",
    "\n",
    "**Nội dung thực hiện**\n",
    "    \n",
    "Thống kê dữ liệu tội phạm của thành phố Chicago 3 năm gần nhất (2020,2021,2022)    \n",
    "- URL năm 2020: https://data.cityofchicago.org/Public-Safety/Crimes-2020/qzdf-xmn8/data_preview\n",
    "- URL năm 2021: https://data.cityofchicago.org/Public-Safety/Crimes-2021/dwme-t96c/data_preview\n",
    "- URL năm 2022: https://data.cityofchicago.org/Public-Safety/Crimes-2022/9hwr-2zxp/data_preview\n",
    " \n",
    "**Động lực thực hiện đề tài**\n",
    "    \n",
    "Thống kê, nghiên cứu về dữ liệu tội phạm là một chủ đề rất thú vị và mang tính ý nghĩa xã hội cao:\n",
    "+ Hiểu rõ hơn về tội phạm và an ninh công cộng, giúp cung cấp cái nhìn sâu hơn về các loại tội phạm đang diễn ra, các mô hình tội phạm, và những khu vực có nguy cơ cao hơn.\n",
    "+ Giúp chính quyền địa phương và các cơ quan liên quan đưa ra các quyết định chính sách hợp lý hơn trong việc giảm tội phạm và cải thiện an ninh.\n",
    "+ Nâng cao an toàn và chất lượng cuộc sống bằng cách hiểu rõ hơn về tội phạm, có thể phát triển các chiến lược và chương trình để cải thiện an ninh và chất lượng cuộc sống cho cộng đồng."
   ]
  },
  {
   "cell_type": "code",
   "execution_count": null,
   "id": "edd07066",
   "metadata": {},
   "outputs": [],
   "source": []
  }
 ],
 "metadata": {
  "kernelspec": {
   "display_name": "Python 3 (ipykernel)",
   "language": "python",
   "name": "python3"
  },
  "language_info": {
   "codemirror_mode": {
    "name": "ipython",
    "version": 3
   },
   "file_extension": ".py",
   "mimetype": "text/x-python",
   "name": "python",
   "nbconvert_exporter": "python",
   "pygments_lexer": "ipython3",
   "version": "3.11.5"
  }
 },
 "nbformat": 4,
 "nbformat_minor": 5
}
